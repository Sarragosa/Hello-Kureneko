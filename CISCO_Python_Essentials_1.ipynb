{
  "nbformat": 4,
  "nbformat_minor": 0,
  "metadata": {
    "colab": {
      "provenance": [],
      "authorship_tag": "ABX9TyMwWH/aN+LL6vUWHOefZ0ST",
      "include_colab_link": true
    },
    "kernelspec": {
      "name": "python3",
      "display_name": "Python 3"
    },
    "language_info": {
      "name": "python"
    }
  },
  "cells": [
    {
      "cell_type": "markdown",
      "metadata": {
        "id": "view-in-github",
        "colab_type": "text"
      },
      "source": [
        "<a href=\"https://colab.research.google.com/github/Sarragosa/Hello-Kureneko/blob/master/CISCO_Python_Essentials_1.ipynb\" target=\"_parent\"><img src=\"https://colab.research.google.com/assets/colab-badge.svg\" alt=\"Open In Colab\"/></a>"
      ]
    },
    {
      "cell_type": "markdown",
      "source": [
        "# **CISCO Networking Python Essentials 1 Course - July 2024**"
      ],
      "metadata": {
        "id": "Fc7A8S4CeOzH"
      }
    },
    {
      "cell_type": "markdown",
      "source": [
        "Use ### in between title ###\n",
        "\n",
        "To print an empty line use:"
      ],
      "metadata": {
        "id": "P2fixvn7P_xz"
      }
    },
    {
      "cell_type": "code",
      "execution_count": 3,
      "metadata": {
        "colab": {
          "base_uri": "https://localhost:8080/"
        },
        "id": "OPLQe_pZOLHD",
        "outputId": "573def26-4478-4284-b00d-e0e41562abd3"
      },
      "outputs": [
        {
          "output_type": "stream",
          "name": "stdout",
          "text": [
            "\n"
          ]
        }
      ],
      "source": [
        "print()"
      ]
    },
    {
      "cell_type": "markdown",
      "source": [
        "You can uses dashes as a separator. This is done by adding sep=\"-\" at the end of the string."
      ],
      "metadata": {
        "id": "PRYm8EIURPIb"
      }
    },
    {
      "cell_type": "markdown",
      "source": [
        "# **Print Function**\n",
        "\n",
        "The print function is a built-in function in Python. Built in functions are always available and do not have to be imported. Pythin 3.8 comes with 69 built in functions.\n",
        "\n",
        "Python standard library lists all of these functions:\n",
        "https://docs.python.org/3/library/index.html"
      ],
      "metadata": {
        "id": "HWSi9tf8ejT9"
      }
    },
    {
      "cell_type": "code",
      "source": [
        "##################################################\n",
        "print(\"***I'm going to print two arrows***\")\n",
        "##################################################\n",
        "\n",
        "print(\"        *        \"   *2)\n",
        "print(\"       * *       \"   *2)\n",
        "print(\"      *   *      \"   *2)\n",
        "print(\"     *     *     \"   *2)\n",
        "print(\"    *       *    \"   *2)\n",
        "print(\"   ***     ***   \"   *2)\n",
        "print(\"     *     *     \"   *2)\n",
        "print(\"     *     *     \"   *2)\n",
        "print(\"     *     *     \"   *2)"
      ],
      "metadata": {
        "colab": {
          "base_uri": "https://localhost:8080/"
        },
        "id": "a9z0bi-dTnzP",
        "outputId": "0bddf3cd-20f0-41d0-ca78-c40ac4f9d35f"
      },
      "execution_count": 20,
      "outputs": [
        {
          "output_type": "stream",
          "name": "stdout",
          "text": [
            "***I'm going to print two arrows***\n",
            "        *                *        \n",
            "       * *              * *       \n",
            "      *   *            *   *      \n",
            "     *     *          *     *     \n",
            "    *       *        *       *    \n",
            "   ***     ***      ***     ***   \n",
            "     *     *          *     *     \n",
            "     *     *          *     *     \n",
            "     *     *          *     *     \n"
          ]
        }
      ]
    },
    {
      "cell_type": "markdown",
      "source": [
        "To print to a new line use the \\n within quotation marks. Either \"\" or ''."
      ],
      "metadata": {
        "id": "x4DGbW3IRxfY"
      }
    },
    {
      "cell_type": "code",
      "source": [
        "print(\"Programming***Essentials***in...Python\")\n",
        "print(\"\\n****Doubled****\")"
      ],
      "metadata": {
        "colab": {
          "base_uri": "https://localhost:8080/"
        },
        "id": "cRNj3zzKSB6r",
        "outputId": "9a4d3d78-0993-48c9-fdac-8da455a6b9d1"
      },
      "execution_count": 10,
      "outputs": [
        {
          "output_type": "stream",
          "name": "stdout",
          "text": [
            "Programming***Essentials***in...Python\n",
            "\n",
            "****Doubled****\n"
          ]
        }
      ]
    },
    {
      "cell_type": "markdown",
      "source": [
        "## **Function Calls (or using a function)**\n",
        "\n",
        "To call a function, you must use the function name followed by speech marks. You can pass arguments into a function by placing them inside the speech marks.\n",
        "\n",
        "You must separate arguments using a comma. Note that when you use a comma you will also need to add an additional comma.\n"
      ],
      "metadata": {
        "id": "3x1mz-cJWRFb"
      }
    },
    {
      "cell_type": "markdown",
      "source": [
        "## **Using the backslash character**\n",
        "\n",
        "The \\ character can be used in 2 ways:\n",
        "\n",
        "1. To tell the computer that the next character has a different or new meaning.\n",
        "2. \\n backslash follwed by n simply means a new line.\n"
      ],
      "metadata": {
        "id": "_7udKZN9Xbw9"
      }
    },
    {
      "cell_type": "markdown",
      "source": [
        "To print an image on the screen we can do this very simply. **Warning!** Remember to not use uppercase when you use the print()function as the code will not run\\:"
      ],
      "metadata": {
        "id": "PsR9YXqfTekq"
      }
    },
    {
      "cell_type": "code",
      "source": [
        "print(\"Hello,\", \"World\")"
      ],
      "metadata": {
        "colab": {
          "base_uri": "https://localhost:8080/"
        },
        "id": "iGWoTulNW1nh",
        "outputId": "d342e2e5-f64e-4d49-f75d-80e4805d5c75"
      },
      "execution_count": 23,
      "outputs": [
        {
          "output_type": "stream",
          "name": "stdout",
          "text": [
            "Hello, World\n"
          ]
        }
      ]
    },
    {
      "cell_type": "markdown",
      "source": [
        "Python strings are delimited by the use of speech marks.\n",
        "\n",
        "Computer programs are just collections of instructions that they can follow.\n"
      ],
      "metadata": {
        "id": "ABioarWRXJUJ"
      }
    },
    {
      "cell_type": "code",
      "source": [
        "print(\"\\nMy\",\"name\",\"is\",\"Jenny\",sep=\"-\")"
      ],
      "metadata": {
        "colab": {
          "base_uri": "https://localhost:8080/"
        },
        "id": "eSOdnL-FRSpy",
        "outputId": "73f0792c-1127-4cd1-84cc-6e270d372c7f"
      },
      "execution_count": 6,
      "outputs": [
        {
          "output_type": "stream",
          "name": "stdout",
          "text": [
            "\n",
            "My-name-is-Jenny\n"
          ]
        }
      ]
    },
    {
      "cell_type": "code",
      "source": [],
      "metadata": {
        "id": "bijnZOqccLbs"
      },
      "execution_count": null,
      "outputs": []
    },
    {
      "cell_type": "markdown",
      "source": [
        "### **Positional v key word arguments**\n",
        "\n",
        "**Positional arguments:** ones whose meaning is dictated by their position, e.g., 2nd argument is outputted after the 1st argument.\n",
        "\n",
        "**Keyword arguments:** are ones that are not identified by their location but by a special keyword used to identify them.\n"
      ],
      "metadata": {
        "id": "JfCyuZUEdaCL"
      }
    },
    {
      "cell_type": "markdown",
      "source": [],
      "metadata": {
        "id": "dbMTGih6d8B4"
      }
    },
    {
      "cell_type": "code",
      "source": [],
      "metadata": {
        "id": "gbEpsDBeY9h6"
      },
      "execution_count": null,
      "outputs": []
    }
  ]
}